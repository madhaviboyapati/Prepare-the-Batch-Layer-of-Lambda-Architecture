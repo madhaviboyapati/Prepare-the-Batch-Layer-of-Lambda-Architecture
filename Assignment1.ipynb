{
 "cells": [
  {
   "cell_type": "code",
   "execution_count": 1,
   "metadata": {},
   "outputs": [],
   "source": [
    "import pyspark\n",
    "\n",
    "vehicle_counter_DF = spark.read.csv('/home/madhavi/per-vehicle-records-2019-10-31.csv', inferSchema = True, header = True)"
   ]
  },
  {
   "cell_type": "code",
   "execution_count": 8,
   "metadata": {},
   "outputs": [
    {
     "data": {
      "text/plain": [
       "pyspark.sql.dataframe.DataFrame"
      ]
     },
     "execution_count": 8,
     "metadata": {},
     "output_type": "execute_result"
    }
   ],
   "source": [
    "type(vehicle_counter_DF)"
   ]
  },
  {
   "cell_type": "code",
   "execution_count": 14,
   "metadata": {},
   "outputs": [
    {
     "data": {
      "text/plain": [
       "4389299"
      ]
     },
     "execution_count": 14,
     "metadata": {},
     "output_type": "execute_result"
    }
   ],
   "source": [
    "vehicle_counter_DF.count()"
   ]
  },
  {
   "cell_type": "code",
   "execution_count": 158,
   "metadata": {},
   "outputs": [
    {
     "data": {
      "text/plain": [
       "325"
      ]
     },
     "execution_count": 158,
     "metadata": {},
     "output_type": "execute_result"
    }
   ],
   "source": [
    "vehicle_counter_DF.select(\"cosit\").distinct().count()"
   ]
  },
  {
   "cell_type": "code",
   "execution_count": 16,
   "metadata": {},
   "outputs": [
    {
     "name": "stdout",
     "output_type": "stream",
     "text": [
      "+---------+-------+\n",
      "|classname|  count|\n",
      "+---------+-------+\n",
      "|      CAR|3472965|\n",
      "|  HGV_ART| 216978|\n",
      "|      BUS|  29347|\n",
      "|  HGV_RIG| 135202|\n",
      "|     null|    396|\n",
      "|  CARAVAN|  21224|\n",
      "|      LGV| 498505|\n",
      "|    MBIKE|  14682|\n",
      "+---------+-------+\n",
      "\n"
     ]
    }
   ],
   "source": [
    "# Q1 Show total number of counts by each vehicle class.\n",
    "\n",
    "vehicle_counter_DF.groupBy('classname').count().show()"
   ]
  },
  {
   "cell_type": "code",
   "execution_count": 10,
   "metadata": {},
   "outputs": [
    {
     "name": "stdout",
     "output_type": "stream",
     "text": [
      "+---------+-------+\n",
      "|classname|  count|\n",
      "+---------+-------+\n",
      "|      CAR|3472965|\n",
      "|      LGV| 498505|\n",
      "|  HGV_ART| 216978|\n",
      "|  HGV_RIG| 135202|\n",
      "|      BUS|  29347|\n",
      "+---------+-------+\n",
      "only showing top 5 rows\n",
      "\n"
     ]
    }
   ],
   "source": [
    "# Q2  Showtop5highestnumberofcountsbyvehicleclass. \n",
    "\n",
    "from pyspark.sql.functions import desc\n",
    "vehicle_counter_DF.groupBy('classname').count().sort(desc(\"count\")).show(5)"
   ]
  },
  {
   "cell_type": "code",
   "execution_count": 146,
   "metadata": {},
   "outputs": [
    {
     "name": "stdout",
     "output_type": "stream",
     "text": [
      "+------+-----+\n",
      "|length|count|\n",
      "+------+-----+\n",
      "| 40.47|    1|\n",
      "| 39.46|    1|\n",
      "| 36.77|    1|\n",
      "| 34.17|    1|\n",
      "| 32.45|    1|\n",
      "+------+-----+\n",
      "only showing top 5 rows\n",
      "\n"
     ]
    }
   ],
   "source": [
    "#3 show the total number of counts by the largest sized (length) vehicle.\n",
    "vehicle_counter_DF.groupBy('length').count().sort(desc(\"length\")).show(5)"
   ]
  },
  {
   "cell_type": "code",
   "execution_count": 90,
   "metadata": {},
   "outputs": [
    {
     "data": {
      "text/plain": [
       "4389299"
      ]
     },
     "execution_count": 90,
     "metadata": {},
     "output_type": "execute_result"
    }
   ],
   "source": [
    "#Q4  How many vehicles were counted on straddlelane? \n",
    "\n",
    "vehicle_counter_DF.filter(vehicle_counter_DF[\"straddlelane\"]>=0).count()\n"
   ]
  },
  {
   "cell_type": "code",
   "execution_count": 98,
   "metadata": {},
   "outputs": [
    {
     "name": "stdout",
     "output_type": "stream",
     "text": [
      "+-----+-----------------+\n",
      "|class|       avg(speed)|\n",
      "+-----+-----------------+\n",
      "|    0|81.18964646464646|\n",
      "|    1|75.41983381010762|\n",
      "|    2|87.99111496948547|\n",
      "|    3|90.35929148153001|\n",
      "|    4| 79.0626980611306|\n",
      "|    5|80.11806925933027|\n",
      "|    6|81.93572758528522|\n",
      "|    7|  80.509602336977|\n",
      "+-----+-----------------+\n",
      "\n"
     ]
    }
   ],
   "source": [
    "#Q5 Compute average speed (for each counter) of vehicles with respect to their class\n",
    "from pyspark.sql.functions import asc\n",
    "vehicle_counter_DF.groupby (\"class\").agg({\"speed\":\"avg\"}).sort(asc(\"class\")).show()"
   ]
  },
  {
   "cell_type": "code",
   "execution_count": 142,
   "metadata": {},
   "outputs": [
    {
     "name": "stdout",
     "output_type": "stream",
     "text": [
      "+-----+----+-----+---+----+------+------+-----------+-----------+----+--------+------------+----------------+-----+---------+------+-------+----+-----+------+-----------+--------+------------+-------------+-----------+------------+-------------------+\n",
      "|cosit|year|month|day|hour|minute|second|millisecond|minuteofday|lane|lanename|straddlelane|straddlelanename|class|classname|length|headway| gap|speed|weight|temperature|duration|validitycode|numberofaxles|axleweights|axlespacings|          Timestamp|\n",
      "+-----+----+-----+---+----+------+------+-----------+-----------+----+--------+------------+----------------+-----+---------+------+-------+----+-----+------+-----------+--------+------------+-------------+-----------+------------+-------------------+\n",
      "|  997|2019|   10| 31|   0|    15|     1|          0|         15|   1|   Test1|           0|            null|    2|      CAR|   5.0|   3.57|3.21| 69.0|   0.0|        0.0|       0|           0|            0|       null|        null|2019-10-31 0:15:1:0|\n",
      "|  997|2019|   10| 31|   0|    15|     3|          0|         15|   2|   Test2|           0|            null|    2|      CAR|   5.1|    2.9|2.94| 69.0|   0.0|        0.0|       0|           0|            0|       null|        null|2019-10-31 0:15:3:0|\n",
      "+-----+----+-----+---+----+------+------+-----------+-----------+----+--------+------------+----------------+-----+---------+------+-------+----+-----+------+-----------+--------+------------+-------------+-----------+------------+-------------------+\n",
      "only showing top 2 rows\n",
      "\n"
     ]
    }
   ],
   "source": [
    "#Q6 Combine the date and time fields (year, month, day, hour, minute,\n",
    "#seconds, millisecond) into one variable (e.g. YYY-MM-DD-HH-MM-SSMMM) and call it timestamp.\n",
    "\n",
    "from pyspark.sql.functions import concat, col, lit\n",
    "df2 = vehicle_counter_DF.withColumn(\n",
    "    'Timestamp',concat(col(\"year\"), lit(\"-\"), col(\"month\"), lit(\"-\"), col(\"day\"), lit(\" \"), col(\"hour\")\n",
    "                                , lit(\":\"), col(\"minute\"), lit(\":\"), col(\"second\"), lit(\":\"), col(\"millisecond\")))\n",
    "                          \n",
    "df2.show(2)"
   ]
  },
  {
   "cell_type": "code",
   "execution_count": 147,
   "metadata": {},
   "outputs": [
    {
     "name": "stdout",
     "output_type": "stream",
     "text": [
      "+-----+----+-----+---+----+------+------+-----------+-----------+----+--------+------------+----------------+-----+---------+------+-------+----+-----+------+-----------+--------+------------+-------------+-----------+------------+-------------------+--------------+\n",
      "|cosit|year|month|day|hour|minute|second|millisecond|minuteofday|lane|lanename|straddlelane|straddlelanename|class|classname|length|headway| gap|speed|weight|temperature|duration|validitycode|numberofaxles|axleweights|axlespacings|          Timestamp|TIME_timestamp|\n",
      "+-----+----+-----+---+----+------+------+-----------+-----------+----+--------+------------+----------------+-----+---------+------+-------+----+-----+------+-----------+--------+------------+-------------+-----------+------------+-------------------+--------------+\n",
      "|  997|2019|   10| 31|   0|    15|     1|          0|         15|   1|   Test1|           0|            null|    2|      CAR|   5.0|   3.57|3.21| 69.0|   0.0|        0.0|       0|           0|            0|       null|        null|2019-10-31 0:15:1:0|          null|\n",
      "|  997|2019|   10| 31|   0|    15|     3|          0|         15|   2|   Test2|           0|            null|    2|      CAR|   5.1|    2.9|2.94| 69.0|   0.0|        0.0|       0|           0|            0|       null|        null|2019-10-31 0:15:3:0|          null|\n",
      "+-----+----+-----+---+----+------+------+-----------+-----------+----+--------+------------+----------------+-----+---------+------+-------+----+-----+------+-----------+--------+------------+-------------+-----------+------------+-------------------+--------------+\n",
      "only showing top 2 rows\n",
      "\n"
     ]
    }
   ],
   "source": [
    "import pyspark.sql.functions as F\n",
    "df3 = df2.withColumn('TIME_timestamp',F.to_timestamp(\"Timestamp\", \"yyyy-MM-dd HH:mm:ss:mi\"))\n",
    "df3.show(2)"
   ]
  },
  {
   "cell_type": "code",
   "execution_count": 166,
   "metadata": {},
   "outputs": [
    {
     "name": "stdout",
     "output_type": "stream",
     "text": [
      "+-----+------------------+\n",
      "|cosit|      avg(headway)|\n",
      "+-----+------------------+\n",
      "|  997|3.1881781953787263|\n",
      "| 1011| 8.330199114368558|\n",
      "| 1012| 5.421058468563986|\n",
      "+-----+------------------+\n",
      "only showing top 3 rows\n",
      "\n"
     ]
    }
   ],
   "source": [
    "#7. List the top 3 busiest roads in Ireland (sites)\n",
    "vehicle_counter_DF.groupby (\"cosit\").agg({\"headway\":\"avg\"}).sort(asc(\"cosit\")).show(3)"
   ]
  },
  {
   "cell_type": "code",
   "execution_count": 171,
   "metadata": {},
   "outputs": [
    {
     "name": "stdout",
     "output_type": "stream",
     "text": [
      "+-------------+-------+\n",
      "|numberofaxles|  count|\n",
      "+-------------+-------+\n",
      "|            0|4201123|\n",
      "|            2| 172814|\n",
      "|            5|   6280|\n",
      "|            6|   3640|\n",
      "|            4|   3542|\n",
      "+-------------+-------+\n",
      "only showing top 5 rows\n",
      "\n"
     ]
    }
   ],
   "source": [
    "#8  Show total number of counts by each number of axles class.\n",
    "vehicle_counter_DF.groupBy('numberofaxles').count().sort(\"count\",ascending=False).show(5)"
   ]
  },
  {
   "cell_type": "code",
   "execution_count": 167,
   "metadata": {},
   "outputs": [
    {
     "name": "stdout",
     "output_type": "stream",
     "text": [
      "+-----+------------------+\n",
      "|class|     avg(duration)|\n",
      "+-----+------------------+\n",
      "|    1| 4.878150115788039|\n",
      "|    6|35.441911161500244|\n",
      "|    3|10.263937172144713|\n",
      "|    5|27.505621218621027|\n",
      "|    4|26.821140150611647|\n",
      "+-----+------------------+\n",
      "only showing top 5 rows\n",
      "\n"
     ]
    }
   ],
   "source": [
    "#9 average duration of vehicles with respect to their class.\n",
    "vehicle_counter_DF.groupBy(\"class\").avg(\"duration\").show(5)"
   ]
  },
  {
   "cell_type": "code",
   "execution_count": 163,
   "metadata": {},
   "outputs": [
    {
     "data": {
      "text/plain": [
       "1119899"
      ]
     },
     "execution_count": 163,
     "metadata": {},
     "output_type": "execute_result"
    }
   ],
   "source": [
    "#10 number vehicles travelled on lane 1\n",
    "vehicle_counter_DF.filter(vehicle_counter_DF[\"lane\"]==1).count()\n"
   ]
  },
  {
   "cell_type": "code",
   "execution_count": null,
   "metadata": {},
   "outputs": [],
   "source": []
  }
 ],
 "metadata": {
  "kernelspec": {
   "display_name": "Python 3",
   "language": "python",
   "name": "python3"
  },
  "language_info": {
   "codemirror_mode": {
    "name": "ipython",
    "version": 3
   },
   "file_extension": ".py",
   "mimetype": "text/x-python",
   "name": "python",
   "nbconvert_exporter": "python",
   "pygments_lexer": "ipython3",
   "version": "3.5.2"
  }
 },
 "nbformat": 4,
 "nbformat_minor": 2
}
